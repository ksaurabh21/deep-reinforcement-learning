{
 "cells": [
  {
   "cell_type": "markdown",
   "metadata": {},
   "source": [
    "# Collaboration and Competition\n",
    "\n",
    "---\n",
    "\n",
    "In this notebook, you will learn how to use the Unity ML-Agents environment for the third project of the [Deep Reinforcement Learning Nanodegree](https://www.udacity.com/course/deep-reinforcement-learning-nanodegree--nd893) program.\n",
    "\n",
    "### 1. Start the Environment\n",
    "\n",
    "We begin by importing the necessary packages.  If the code cell below returns an error, please revisit the project instructions to double-check that you have installed [Unity ML-Agents](https://github.com/Unity-Technologies/ml-agents/blob/master/docs/Installation.md) and [NumPy](http://www.numpy.org/)."
   ]
  },
  {
   "cell_type": "code",
   "execution_count": 1,
   "metadata": {},
   "outputs": [],
   "source": [
    "from unityagents import UnityEnvironment\n",
    "import numpy as np"
   ]
  },
  {
   "cell_type": "markdown",
   "metadata": {},
   "source": [
    "Next, we will start the environment!  **_Before running the code cell below_**, change the `file_name` parameter to match the location of the Unity environment that you downloaded.\n",
    "\n",
    "- **Mac**: `\"path/to/Tennis.app\"`\n",
    "- **Windows** (x86): `\"path/to/Tennis_Windows_x86/Tennis.exe\"`\n",
    "- **Windows** (x86_64): `\"path/to/Tennis_Windows_x86_64/Tennis.exe\"`\n",
    "- **Linux** (x86): `\"path/to/Tennis_Linux/Tennis.x86\"`\n",
    "- **Linux** (x86_64): `\"path/to/Tennis_Linux/Tennis.x86_64\"`\n",
    "- **Linux** (x86, headless): `\"path/to/Tennis_Linux_NoVis/Tennis.x86\"`\n",
    "- **Linux** (x86_64, headless): `\"path/to/Tennis_Linux_NoVis/Tennis.x86_64\"`\n",
    "\n",
    "For instance, if you are using a Mac, then you downloaded `Tennis.app`.  If this file is in the same folder as the notebook, then the line below should appear as follows:\n",
    "```\n",
    "env = UnityEnvironment(file_name=\"Tennis.app\")\n",
    "```"
   ]
  },
  {
   "cell_type": "code",
   "execution_count": 2,
   "metadata": {},
   "outputs": [
    {
     "name": "stderr",
     "output_type": "stream",
     "text": [
      "INFO:unityagents:\n",
      "'Academy' started successfully!\n",
      "Unity Academy name: Academy\n",
      "        Number of Brains: 1\n",
      "        Number of External Brains : 1\n",
      "        Lesson number : 0\n",
      "        Reset Parameters :\n",
      "\t\t\n",
      "Unity brain name: TennisBrain\n",
      "        Number of Visual Observations (per agent): 0\n",
      "        Vector Observation space type: continuous\n",
      "        Vector Observation space size (per agent): 8\n",
      "        Number of stacked Vector Observation: 3\n",
      "        Vector Action space type: continuous\n",
      "        Vector Action space size (per agent): 2\n",
      "        Vector Action descriptions: , \n"
     ]
    }
   ],
   "source": [
    "env = UnityEnvironment(file_name=r\"D:\\dev\\workspace\\deep-reinforcement-learning\\p3_collab-compet\\Tennis_Windows_x86_64\\Tennis.exe\")"
   ]
  },
  {
   "cell_type": "markdown",
   "metadata": {},
   "source": [
    "Environments contain **_brains_** which are responsible for deciding the actions of their associated agents. Here we check for the first brain available, and set it as the default brain we will be controlling from Python."
   ]
  },
  {
   "cell_type": "code",
   "execution_count": 3,
   "metadata": {},
   "outputs": [],
   "source": [
    "# get the default brain\n",
    "brain_name = env.brain_names[0]\n",
    "brain = env.brains[brain_name]"
   ]
  },
  {
   "cell_type": "markdown",
   "metadata": {},
   "source": [
    "### 2. Examine the State and Action Spaces\n",
    "\n",
    "In this environment, two agents control rackets to bounce a ball over a net. If an agent hits the ball over the net, it receives a reward of +0.1.  If an agent lets a ball hit the ground or hits the ball out of bounds, it receives a reward of -0.01.  Thus, the goal of each agent is to keep the ball in play.\n",
    "\n",
    "The observation space consists of 8 variables corresponding to the position and velocity of the ball and racket. Two continuous actions are available, corresponding to movement toward (or away from) the net, and jumping. \n",
    "\n",
    "Run the code cell below to print some information about the environment."
   ]
  },
  {
   "cell_type": "code",
   "execution_count": 4,
   "metadata": {},
   "outputs": [
    {
     "name": "stdout",
     "output_type": "stream",
     "text": [
      "Number of agents: 2\n",
      "Size of each action: 2\n",
      "There are 2 agents. Each observes a state with length: 24\n",
      "The state for the first agent looks like: [ 0.          0.          0.          0.          0.          0.\n",
      "  0.          0.          0.          0.          0.          0.\n",
      "  0.          0.          0.          0.         -6.65278625 -1.5\n",
      " -0.          0.          6.83172083  6.         -0.          0.        ]\n"
     ]
    }
   ],
   "source": [
    "# reset the environment\n",
    "env_info = env.reset(train_mode=True)[brain_name]\n",
    "\n",
    "# number of agents \n",
    "num_agents = len(env_info.agents)\n",
    "print('Number of agents:', num_agents)\n",
    "\n",
    "# size of each action\n",
    "action_size = brain.vector_action_space_size\n",
    "print('Size of each action:', action_size)\n",
    "\n",
    "# examine the state space \n",
    "states = env_info.vector_observations\n",
    "state_size = states.shape[1]\n",
    "print('There are {} agents. Each observes a state with length: {}'.format(states.shape[0], state_size))\n",
    "print('The state for the first agent looks like:', states[0])"
   ]
  },
  {
   "cell_type": "markdown",
   "metadata": {},
   "source": [
    "### 3. Take Random Actions in the Environment\n",
    "\n",
    "In the next code cell, you will learn how to use the Python API to control the agents and receive feedback from the environment.\n",
    "\n",
    "Once this cell is executed, you will watch the agents' performance, if they select actions at random with each time step.  A window should pop up that allows you to observe the agents.\n",
    "\n",
    "Of course, as part of the project, you'll have to change the code so that the agents are able to use their experiences to gradually choose better actions when interacting with the environment!"
   ]
  },
  {
   "cell_type": "code",
   "execution_count": 5,
   "metadata": {},
   "outputs": [
    {
     "name": "stdout",
     "output_type": "stream",
     "text": [
      "Score (max over agents) from episode 1: 0.0\n",
      "Score (max over agents) from episode 2: 0.09000000171363354\n",
      "Score (max over agents) from episode 3: 0.09000000171363354\n",
      "Score (max over agents) from episode 4: 0.0\n",
      "Score (max over agents) from episode 5: 0.0\n"
     ]
    }
   ],
   "source": [
    "for i in range(1, 6):                                      # play game for 5 episodes\n",
    "    env_info = env.reset(train_mode=False)[brain_name]     # reset the environment    \n",
    "    states = env_info.vector_observations                  # get the current state (for each agent)\n",
    "    scores = np.zeros(num_agents)                          # initialize the score (for each agent)\n",
    "    while True:\n",
    "        actions = np.random.randn(num_agents, action_size) # select an action (for each agent)\n",
    "        actions = np.clip(actions, -1, 1)                  # all actions between -1 and 1\n",
    "        env_info = env.step(actions)[brain_name]           # send all actions to tne environment\n",
    "        next_states = env_info.vector_observations         # get next state (for each agent)\n",
    "        rewards = env_info.rewards                         # get reward (for each agent)\n",
    "        dones = env_info.local_done                        # see if episode finished\n",
    "        scores += env_info.rewards                         # update the score (for each agent)\n",
    "        states = next_states                               # roll over states to next time step\n",
    "        if np.any(dones):                                  # exit loop if episode finished\n",
    "            break\n",
    "    print('Score (max over agents) from episode {}: {}'.format(i, np.max(scores)))"
   ]
  },
  {
   "cell_type": "markdown",
   "metadata": {},
   "source": [
    "When finished, you can close the environment."
   ]
  },
  {
   "cell_type": "code",
   "execution_count": 6,
   "metadata": {},
   "outputs": [],
   "source": [
    "#env.close()"
   ]
  },
  {
   "cell_type": "markdown",
   "metadata": {},
   "source": [
    "### 4. It's Your Turn!\n",
    "\n",
    "Now it's your turn to train your own agent to solve the environment!  When training the environment, set `train_mode=True`, so that the line for resetting the environment looks like the following:\n",
    "```python\n",
    "env_info = env.reset(train_mode=True)[brain_name]\n",
    "```"
   ]
  },
  {
   "cell_type": "code",
   "execution_count": 7,
   "metadata": {},
   "outputs": [],
   "source": [
    "#import envs\n",
    "from buffer import ReplayBuffer\n",
    "from maddpg import MADDPG\n",
    "import torch\n",
    "import numpy as np\n",
    "#from tensorboardX import SummaryWriter\n",
    "import os\n",
    "from utilities import transpose_list, transpose_to_tensor\n",
    "\n",
    "# keep training awake\n",
    "from workspace_utils import keep_awake\n",
    "\n",
    "# for saving gif\n",
    "#import imageio\n",
    "\n",
    "\n",
    "def seeding(seed=1):\n",
    "    np.random.seed(seed)\n",
    "    torch.manual_seed(seed)\n",
    "\n",
    "def pre_process(entity, batchsize):\n",
    "    processed_entity = []\n",
    "    for j in range(3):\n",
    "        list = []\n",
    "        for i in range(batchsize):\n",
    "            b = entity[i][j]\n",
    "            list.append(b)\n",
    "        c = torch.Tensor(list)\n",
    "        processed_entity.append(c)\n",
    "    return processed_entity\n",
    "\n",
    "\n",
    "def main():\n",
    "    seeding()\n",
    "    # number of parallel agents\n",
    "    parallel_envs = 1\n",
    "    # number of training episodes.\n",
    "    # change this to higher number to experiment. say 30000.\n",
    "    number_of_episodes = 5000\n",
    "    episode_length = 80\n",
    "    batchsize = 128 #1000\n",
    "    # how many episodes to save policy and gif\n",
    "    save_interval = 1000\n",
    "    t = 0\n",
    "    \n",
    "    # amplitude of OU noise\n",
    "    # this slowly decreases to 0\n",
    "    noise = 2\n",
    "    noise_reduction = 0.9999\n",
    "\n",
    "    # how many episodes before update\n",
    "    episode_per_update = 4 * parallel_envs\n",
    "\n",
    "    log_path = os.getcwd()+\"/log\"\n",
    "    model_dir= os.getcwd()+\"/model_dir\"\n",
    "    \n",
    "    os.makedirs(model_dir, exist_ok=True)\n",
    "\n",
    "    torch.set_num_threads(parallel_envs)\n",
    "    #env = envs.make_parallel_env(parallel_envs)\n",
    "    \n",
    "    # keep 5000 episodes worth of replay\n",
    "    buffer = ReplayBuffer(int(5000*episode_length))\n",
    "    \n",
    "    # initialize policy and critic\n",
    "    maddpg = MADDPG()\n",
    "    #logger = SummaryWriter(log_dir=log_path)\n",
    "    agent0_reward = []\n",
    "    agent1_reward = []\n",
    "    avg_rewards = []\n",
    "    #agent2_reward = []\n",
    "\n",
    "    # training loop\n",
    "    # show progressbar\n",
    "    #import progressbar as pb\n",
    "    #widget = ['episode: ', pb.Counter(),'/',str(number_of_episodes),' ', \n",
    "    #          pb.Percentage(), ' ', pb.ETA(), ' ', pb.Bar(marker=pb.RotatingMarker()), ' ' ]\n",
    "    \n",
    "    #timer = pb.ProgressBar(widgets=widget, maxval=number_of_episodes).start()\n",
    "\n",
    "    # use keep_awake to keep workspace from disconnecting\n",
    "    for episode in range(0, number_of_episodes, parallel_envs):\n",
    "\n",
    "        #timer.update(episode)\n",
    "\n",
    "\n",
    "        reward_this_episode = np.zeros((parallel_envs, num_agents)) \n",
    "        \n",
    "        \n",
    "        env_info = env.reset(train_mode=True)[brain_name]     # reset the environment    \n",
    "        states = env_info.vector_observations                  # get the current state (for each agent)\n",
    "        #scores = np.zeros(num_agents)                          # initialize the score (for each agent)\n",
    "\n",
    "        #all_obs = env.reset() #\n",
    "        #obs, obs_full = transpose_list(all_obs)\n",
    "\n",
    "        #for calculating rewards for this particular episode - addition of all time steps\n",
    "\n",
    "        # save info or not\n",
    "        save_info = ((episode) % save_interval < parallel_envs or episode==number_of_episodes-parallel_envs)\n",
    "        frames = []\n",
    "        tmax = 0\n",
    "        \n",
    "        #if save_info:\n",
    "        #    frames.append(env.render('rgb_array'))\n",
    "\n",
    "\n",
    "        \n",
    "        for episode_t in range(episode_length):\n",
    "\n",
    "            t += parallel_envs\n",
    "            \n",
    "\n",
    "            # explore = only explore for a certain number of episodes\n",
    "            # action input needs to be transposed\n",
    "            #print(states.shape)\n",
    "            obs = [states.tolist()]\n",
    "            actions = maddpg.act(transpose_to_tensor(obs), noise=noise) \n",
    "            noise *= noise_reduction\n",
    "            \n",
    "            actions_array = torch.stack(actions).detach().numpy()\n",
    "\n",
    "            # transpose the list of list\n",
    "            # flip the first two indices\n",
    "            # input to step requires the first index to correspond to number of parallel agents\n",
    "            actions_for_env = np.rollaxis(actions_array,1)\n",
    "            #print(len(actions_for_env[0][0]))\n",
    "            # step forward one frame\n",
    "            #next_obs, next_obs_full, rewards, dones, info = env.step(actions_for_env)\n",
    "            \n",
    "            \n",
    "            #actions = np.random.randn(num_agents, action_size) # select an action (for each agent)\n",
    "            actions_for_env = np.clip(np.array(actions_for_env[0]), -1, 1)                  # all actions between -1 and 1\n",
    "            env_info = env.step(actions_for_env)[brain_name]           # send all actions to tne environment\n",
    "            next_states = env_info.vector_observations         # get next state (for each agent)\n",
    "            rewards = env_info.rewards                         # get reward (for each agent)\n",
    "            dones = env_info.local_done                        # see if episode finished\n",
    "            #scores += env_info.rewards                         # update the score (for each agent)\n",
    "                                           # roll over states to next time step\n",
    "            #if np.any(dones):                                  # exit loop if episode finished\n",
    "            #    break\n",
    "\n",
    "            \n",
    "            # add data to buffer\n",
    "            #transition = (obs, obs_full, actions_for_env, rewards, next_obs, next_obs_full, dones)\n",
    "            transition = (obs, [actions_for_env], [rewards], [next_states],  [dones])\n",
    "            #states = next_states\n",
    "            buffer.push(transition)\n",
    "            \n",
    "            reward_this_episode += rewards\n",
    "\n",
    "            #obs, obs_full = next_obs, next_obs_full\n",
    "            states = next_states\n",
    "            \n",
    "            # save gif frame\n",
    "            #if save_info:\n",
    "            #    frames.append(env.render('rgb_array'))\n",
    "            #    tmax+=1\n",
    "        \n",
    "        # update once after every episode_per_update\n",
    "        if len(buffer) > batchsize and episode % episode_per_update < parallel_envs:\n",
    "            for a_i in range(num_agents):\n",
    "                samples = buffer.sample(batchsize)\n",
    "                maddpg.update(samples, a_i) #, logger)\n",
    "            maddpg.update_targets() #soft update the target network towards the actual networks\n",
    "\n",
    "        \n",
    "        \n",
    "        for i in range(parallel_envs):\n",
    "            agent0_reward.append(reward_this_episode[i,0])\n",
    "            agent1_reward.append(reward_this_episode[i,1])\n",
    "            #agent2_reward.append(reward_this_episode[i,2])\n",
    "\n",
    "        if episode % 100 == 0 or episode == number_of_episodes-1:\n",
    "            avg_rewards.append([np.mean(agent0_reward), np.mean(agent1_reward)])#, np.mean(agent2_reward)]\n",
    "            agent0_reward = []\n",
    "            agent1_reward = []\n",
    "            #agent2_reward = []\n",
    "            #for a_i, avg_rew in enumerate(avg_rewards):\n",
    "            #    logger.add_scalar('agent%i/mean_episode_rewards' % a_i, avg_rew, episode)\n",
    "\n",
    "        #saving model\n",
    "        save_dict_list =[]\n",
    "        if save_info:\n",
    "            for i in range(num_agents):\n",
    "\n",
    "                save_dict = {'actor_params' : maddpg.maddpg_agent[i].actor.state_dict(),\n",
    "                             'actor_optim_params': maddpg.maddpg_agent[i].actor_optimizer.state_dict(),\n",
    "                             'critic_params' : maddpg.maddpg_agent[i].critic.state_dict(),\n",
    "                             'critic_optim_params' : maddpg.maddpg_agent[i].critic_optimizer.state_dict()}\n",
    "                save_dict_list.append(save_dict)\n",
    "\n",
    "                torch.save(save_dict_list, \n",
    "                           os.path.join(model_dir, 'episode-{}.pt'.format(episode)))\n",
    "                \n",
    "            # save gif files\n",
    "            #imageio.mimsave(os.path.join(model_dir, 'episode-{}.gif'.format(episode)), \n",
    "            #                frames, duration=.04)\n",
    "\n",
    "    \n",
    "    #logger.close()\n",
    "    #timer.finish()\n",
    "    return avg_rewards\n"
   ]
  },
  {
   "cell_type": "code",
   "execution_count": 8,
   "metadata": {},
   "outputs": [],
   "source": [
    "avg_rewards = main()"
   ]
  },
  {
   "cell_type": "code",
   "execution_count": 9,
   "metadata": {},
   "outputs": [],
   "source": [
    "avg_rewards = np.array(avg_rewards)"
   ]
  },
  {
   "cell_type": "code",
   "execution_count": 10,
   "metadata": {},
   "outputs": [
    {
     "data": {
      "image/png": "[encoded data removed]",
      "text/plain": [
       "<Figure size 432x288 with 1 Axes>"
      ]
     },
     "metadata": {
      "needs_background": "light"
     },
     "output_type": "display_data"
    }
   ],
   "source": [
    "import matplotlib.pyplot as plt\n",
    "%matplotlib inline\n",
    "fig = plt.figure()\n",
    "ax = fig.add_subplot(111)\n",
    "ax.plot(np.arange(1, avg_rewards.shape[0]+1), avg_rewards[:,0])\n",
    "ax.plot(np.arange(1, avg_rewards.shape[0]+1), avg_rewards[:,1])\n",
    "plt.ylabel('Score')\n",
    "plt.xlabel('Episode#/100')\n",
    "plt.show()"
   ]
  },
  {
   "cell_type": "code",
   "execution_count": 11,
   "metadata": {},
   "outputs": [],
   "source": [
    "env.close()"
   ]
  },
  {
   "cell_type": "code",
   "execution_count": null,
   "metadata": {},
   "outputs": [],
   "source": []
  }
 ],
 "metadata": {
  "kernelspec": {
   "display_name": "Python 3",
   "language": "python",
   "name": "python3"
  },
  "language_info": {
   "codemirror_mode": {
    "name": "ipython",
    "version": 3
   },
   "file_extension": ".py",
   "mimetype": "text/x-python",
   "name": "python",
   "nbconvert_exporter": "python",
   "pygments_lexer": "ipython3",
   "version": "3.6.7"
  }
 },
 "nbformat": 4,
 "nbformat_minor": 2
}
